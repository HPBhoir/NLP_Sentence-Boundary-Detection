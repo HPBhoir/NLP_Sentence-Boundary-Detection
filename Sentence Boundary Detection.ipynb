{
 "cells": [
  {
   "cell_type": "code",
   "execution_count": 17,
   "id": "01ac9371",
   "metadata": {},
   "outputs": [],
   "source": [
    "import csv\n",
    "import re\n",
    "import pandas as pd"
   ]
  },
  {
   "cell_type": "code",
   "execution_count": 42,
   "id": "07128650",
   "metadata": {
    "scrolled": true
   },
   "outputs": [
    {
     "name": "stderr",
     "output_type": "stream",
     "text": [
      "/var/folders/q1/sjpkk5cn61n1jblsjqlxmz9h0000gn/T/ipykernel_71023/1936555213.py:1: ParserWarning: Falling back to the 'python' engine because the 'c' engine does not support regex separators (separators > 1 char and different from '\\s+' are interpreted as regex); you can avoid this warning by specifying engine='python'.\n",
      "  dataset = pd.read_csv(\"SBD.train\",delimiter=\"\\s\",header=None)\n"
     ]
    }
   ],
   "source": [
    "dataset = pd.read_csv(\"SBD.train\",delimiter=\"\\s\",header=None)"
   ]
  },
  {
   "cell_type": "code",
   "execution_count": 43,
   "id": "ea76fb94",
   "metadata": {
    "scrolled": true
   },
   "outputs": [],
   "source": [
    "train = dataset.iloc[ : , 1:2 ].values"
   ]
  },
  {
   "cell_type": "code",
   "execution_count": 44,
   "id": "4bfe21b9",
   "metadata": {},
   "outputs": [],
   "source": [
    "with open('Features.csv', 'w', newline='') as f:\n",
    "    save = csv.writer(f)"
   ]
  },
  {
   "cell_type": "code",
   "execution_count": 45,
   "id": "a789e8df",
   "metadata": {},
   "outputs": [],
   "source": [
    "for i in range(0, (len(train)-5)):\n",
    "    if \".\" in str(train[i]) :\n",
    "        \n",
    "        \n",
    "        L = re.sub(\"[^a-zA-Z0-9 ]\" , '',str(train[i]))\n",
    "        if len(str(L)) == 0:\n",
    "            L = re.sub(\"[^a-zA-Z0-9 ]\" , '',str(train[i-1]))\n",
    "        if len(str(L)) == 0:\n",
    "            L = re.sub(\"[^a-zA-Z0-9 ]\" , '',str(train[i-2]))\n",
    "        if len(str(L)) == 0:\n",
    "            L = re.sub(\"[^a-zA-Z0-9 ]\" , '',str(train[i-3]))  \n",
    "        if len(str(L)) == 0:\n",
    "            L = re.sub(\"[^a-zA-Z0-9 ]\" , '',str(train[i-4]))    \n",
    "        \n",
    "        \n",
    "        R = re.sub(\"[^a-zA-Z0-9 ]\" , '',str(train[i+1]))\n",
    "        if len(str(R)) == 0:\n",
    "            R = re.sub(\"[^a-zA-Z0-9 ]\" , '',str(train[i+2]))\n",
    "        if len(str(R)) == 0:\n",
    "            R = re.sub(\"[^a-zA-Z0-9 ]\" , '',str(train[i+3]))\n",
    "        if len(str(R)) == 0:\n",
    "            R = re.sub(\"[^a-zA-Z0-9 ]\" , '',str(train[i+4]))\n",
    "        if len(str(R)) == 0:\n",
    "            R = re.sub(\"[^a-zA-Z0-9 ]\" , '',str(train[i+5]))    \n",
    "        \n",
    "                  \n",
    "       #length of Left word \n",
    "        if len(str(L)) < 3:\n",
    "            L_len = 0\n",
    "        else:\n",
    "            L_len = 1\n",
    "        \n",
    "        #Check for First charater of L\n",
    "        ring = L[0]\n",
    "        if ring.isupper():\n",
    "            Lfc = 1\n",
    "        else:\n",
    "            Lfc = 0\n",
    "        \n",
    "        #Check for First charater of R\n",
    "        ring = R[0] \n",
    "        if ring.isupper():\n",
    "            Rfc = 1\n",
    "        else:\n",
    "            Rfc = 0\n",
    "            \n",
    "        if L.isnumeric() :\n",
    "            L_number = 1\n",
    "        else:\n",
    "            L_number = 0\n",
    "            \n",
    "        \n",
    "        if L.isnumeric() and R.isnumeric():\n",
    "            its_number = 1\n",
    "        else:\n",
    "            its_number = 0\n",
    "            \n",
    "        if L ==\"Mr\" or L==\"Dr\":\n",
    "            abr = 1\n",
    "        else:\n",
    "            abr = 0\n",
    "            \n",
    "        result = dataset.iloc[ i:i+1 , 2:3 ].values\n",
    "       \n",
    "        \n",
    "        # list of column names \n",
    "        Feature_names = ['L_len','Lfc','Rfc','isnum','Abbr','L_number','Result']\n",
    "  \n",
    "        \n",
    "        dict = {\"L_len\":L_len, \"Lfc\":Lfc, \"Rfc\":Rfc, \"isnum\": its_number, \"Abbr\": abr, \"L_number\":L_number, \"Result\": result}\n",
    "\n",
    "        with open('Features.csv', 'a') as f:\n",
    "            dict_object = csv.DictWriter(f, fieldnames=Feature_names) \n",
    "            dict_object.writerow(dict)"
   ]
  },
  {
   "cell_type": "code",
   "execution_count": 46,
   "id": "fd01128f",
   "metadata": {},
   "outputs": [
    {
     "name": "stderr",
     "output_type": "stream",
     "text": [
      "/var/folders/q1/sjpkk5cn61n1jblsjqlxmz9h0000gn/T/ipykernel_71023/669170700.py:1: ParserWarning: Falling back to the 'python' engine because the 'c' engine does not support regex separators (separators > 1 char and different from '\\s+' are interpreted as regex); you can avoid this warning by specifying engine='python'.\n",
      "  testdata = pd.read_csv( \"SBD.test\" , delimiter=\"\\s\", header=None )\n"
     ]
    }
   ],
   "source": [
    "testdata = pd.read_csv( \"SBD.test\" , delimiter=\"\\s\", header=None )\n",
    "test = testdata.iloc[ : , 1:2 ].values\n",
    "\n",
    "# Feature extraction \n",
    "with open('TESTFeatures.csv', 'w', newline='') as tf:\n",
    "    save = csv.writer(tf)\n",
    "for i in range(0, len(test)-5):\n",
    "    if \".\" in str(test[i]) :\n",
    "        \n",
    "        \n",
    "        L = re.sub(\"[^a-zA-Z0-9 ]\" , '',str(test[i]))\n",
    "        if len(str(L)) == 0:\n",
    "            L = re.sub(\"[^a-zA-Z0-9 ]\" , '',str(test[i-1]))\n",
    "        if len(str(L)) == 0:\n",
    "            L = re.sub(\"[^a-zA-Z0-9 ]\" , '',str(test[i-2]))\n",
    "        if len(str(L)) == 0:\n",
    "            L = re.sub(\"[^a-zA-Z0-9 ]\" , '',str(test[i-3]))  \n",
    "        if len(str(L)) == 0:\n",
    "            L = re.sub(\"[^a-zA-Z0-9 ]\" , '',str(test[i-4]))    \n",
    "        \n",
    "        \n",
    "        R = re.sub(\"[^a-zA-Z0-9 ]\" , '',str(test[i+1]))\n",
    "        if len(str(R)) == 0:\n",
    "            R = re.sub(\"[^a-zA-Z0-9 ]\" , '',str(test[i+2]))\n",
    "        if len(str(R)) == 0:\n",
    "            R = re.sub(\"[^a-zA-Z0-9 ]\" , '',str(test[i+3]))\n",
    "        if len(str(R)) == 0:\n",
    "            R = re.sub(\"[^a-zA-Z0-9 ]\" , '',str(test[i+4]))\n",
    "        if len(str(R)) == 0:\n",
    "            R = re.sub(\"[^a-zA-Z0-9 ]\" , '',str(test[i+5]))    \n",
    "        \n",
    "                  \n",
    "       #length of Left word \n",
    "        if len(str(L)) < 3:\n",
    "            L_len = 0\n",
    "        else:\n",
    "            L_len = 1\n",
    "        \n",
    "        #Check for First charater of L\n",
    "        ring = L[0]\n",
    "        if ring.isupper():\n",
    "            Lfc = 1\n",
    "        else:\n",
    "            Lfc = 0\n",
    "        \n",
    "        #Check for First charater of R\n",
    "        ring = R[0] \n",
    "        if ring.isupper():\n",
    "            Rfc = 1\n",
    "        else:\n",
    "            Rfc = 0\n",
    "            \n",
    "        if L.isnumeric() :\n",
    "            L_number = 1\n",
    "        else:\n",
    "            L_number = 0\n",
    "            \n",
    "        \n",
    "        if L.isnumeric() and R.isnumeric():\n",
    "            its_number = 1\n",
    "        else:\n",
    "            its_number = 0\n",
    "            \n",
    "        if L ==\"Mr\" or L==\"Dr\":\n",
    "            abr = 1\n",
    "        else:\n",
    "            abr = 0    \n",
    "            \n",
    "            \n",
    "            \n",
    "            \n",
    "        result = testdata.iloc[ i:i+1 , 2:3 ].values\n",
    "       \n",
    "        \n",
    "        # list of column names \n",
    "        Feature_names = ['L_len','Lfc','Rfc','isnum','Abbr','L_number','Result']\n",
    "  \n",
    "        \n",
    "        dict = {\"L_len\":L_len, \"Lfc\":Lfc, \"Rfc\":Rfc, \"isnum\": its_number, \"Abbr\": abr, \"L_number\":L_number, \"Result\": result}\n",
    "\n",
    "        with open('TESTFeatures.csv', 'a') as tf:\n",
    "            dict_object = csv.DictWriter(tf, fieldnames=Feature_names) \n",
    "            dict_object.writerow(dict)  "
   ]
  },
  {
   "cell_type": "code",
   "execution_count": null,
   "id": "3c32c181",
   "metadata": {},
   "outputs": [],
   "source": []
  },
  {
   "cell_type": "code",
   "execution_count": 64,
   "id": "fbe84323",
   "metadata": {},
   "outputs": [],
   "source": [
    "data = pd.read_csv(\"Features.csv\", header=None) \n",
    "X = data.iloc[:, 0:6 ]#.values\n",
    "Y = data.iloc[:, 6:7]#.values\n",
    "\n",
    "data = pd.read_csv(\"TESTFeatures.csv\", header=None) \n",
    "pX = data.iloc[:, 0:6 ]#.values\n",
    "gold_Y = data.iloc[:, 6:7]#.values"
   ]
  },
  {
   "cell_type": "code",
   "execution_count": null,
   "id": "45d01943",
   "metadata": {},
   "outputs": [],
   "source": []
  },
  {
   "cell_type": "code",
   "execution_count": 66,
   "id": "4c771bf3",
   "metadata": {},
   "outputs": [],
   "source": [
    "#Decission Tree classification algo\n",
    "from sklearn.tree import DecisionTreeClassifier\n",
    "dt  = DecisionTreeClassifier()\n",
    "dt.fit(X,Y)\n",
    "\n",
    "predictedY = dt.predict( pX )"
   ]
  },
  {
   "cell_type": "code",
   "execution_count": 67,
   "id": "d049c9ee",
   "metadata": {
    "scrolled": true
   },
   "outputs": [
    {
     "data": {
      "text/plain": [
       "(array([\"[['NEOS']]\", \"[['EOS']]\", \"[['EOS']]\", ..., \"[['EOS']]\",\n",
       "        \"[['EOS']]\", \"[['EOS']]\"], dtype=object),\n",
       "                 6\n",
       " 0      [['NEOS']]\n",
       " 1       [['EOS']]\n",
       " 2      [['NEOS']]\n",
       " 3       [['EOS']]\n",
       " 4      [['NEOS']]\n",
       " ...           ...\n",
       " 19254   [['EOS']]\n",
       " 19255   [['EOS']]\n",
       " 19256  [['NEOS']]\n",
       " 19257   [['EOS']]\n",
       " 19258   [['EOS']]\n",
       " \n",
       " [19259 rows x 1 columns])"
      ]
     },
     "execution_count": 67,
     "metadata": {},
     "output_type": "execute_result"
    }
   ],
   "source": [
    "predictedY,Y"
   ]
  },
  {
   "cell_type": "code",
   "execution_count": 68,
   "id": "570cecee",
   "metadata": {},
   "outputs": [
    {
     "name": "stdout",
     "output_type": "stream",
     "text": [
      "Accuracy is: 92.8369688777171\n"
     ]
    }
   ],
   "source": [
    "# Accuracy # Accuracy # Accuracy # Accuracy # Accuracy # Accuracy # Accuracy \n",
    "from sklearn.metrics import balanced_accuracy_score\n",
    "y_true = (gold_Y)\n",
    "y_pred = (predictedY)\n",
    "New_Accuracy = balanced_accuracy_score(y_true, y_pred)\n",
    "print(\"Accuracy is:\", (New_Accuracy*100))\n",
    "# Accuracy # Accuracy # Accuracy # Accuracy # Accuracy # Accuracy # Accuracy "
   ]
  },
  {
   "cell_type": "code",
   "execution_count": null,
   "id": "4d8d7d69",
   "metadata": {},
   "outputs": [],
   "source": []
  }
 ],
 "metadata": {
  "kernelspec": {
   "display_name": "Python 3 (ipykernel)",
   "language": "python",
   "name": "python3"
  },
  "language_info": {
   "codemirror_mode": {
    "name": "ipython",
    "version": 3
   },
   "file_extension": ".py",
   "mimetype": "text/x-python",
   "name": "python",
   "nbconvert_exporter": "python",
   "pygments_lexer": "ipython3",
   "version": "3.9.12"
  }
 },
 "nbformat": 4,
 "nbformat_minor": 5
}
